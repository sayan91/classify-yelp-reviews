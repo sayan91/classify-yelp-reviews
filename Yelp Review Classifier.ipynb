{
 "cells": [
  {
   "cell_type": "markdown",
   "metadata": {},
   "source": [
    "# Classifying Yelp Reviews - Kaggle #\n",
    "\n",
    "By Beth & Sayan\n",
    "\n",
    "October 2016"
   ]
  },
  {
   "cell_type": "code",
   "execution_count": 4,
   "metadata": {
    "collapsed": false
   },
   "outputs": [],
   "source": [
    "import pandas as pd\n",
    "import numpy as np\n",
    "import matplotlib.pyplot as plt\n",
    "%matplotlib inline\n",
    "import nltk\n",
    "from sklearn.cross_validation import train_test_split\n",
    "from sklearn.feature_extraction.text import TfidfVectorizer\n",
    "from sklearn.feature_extraction.text import HashingVectorizer\n",
    "from sklearn.feature_selection import SelectKBest, chi2, f_classif\n",
    "from sklearn.linear_model import RidgeClassifier\n",
    "from sklearn.pipeline import Pipeline\n",
    "from sklearn.svm import LinearSVC\n",
    "from sklearn.svm import SVC\n",
    "from sklearn.linear_model import SGDClassifier\n",
    "from sklearn.linear_model import Perceptron\n",
    "from sklearn.linear_model import PassiveAggressiveClassifier\n",
    "from sklearn.naive_bayes import BernoulliNB, MultinomialNB\n",
    "from sklearn.neighbors import KNeighborsClassifier\n",
    "from sklearn.neighbors import NearestCentroid\n",
    "from sklearn.ensemble import RandomForestClassifier\n",
    "from sklearn.utils.extmath import density\n",
    "from sklearn.metrics import classification_report\n",
    "from sklearn.metrics import confusion_matrix\n",
    "from sklearn.metrics import accuracy_score\n",
    "from sklearn.cross_validation import KFold\n",
    "from sklearn.grid_search import GridSearchCV"
   ]
  },
  {
   "cell_type": "code",
   "execution_count": 6,
   "metadata": {
    "collapsed": false
   },
   "outputs": [
    {
     "data": {
      "text/html": [
       "<div>\n",
       "<table border=\"1\" class=\"dataframe\">\n",
       "  <thead>\n",
       "    <tr style=\"text-align: right;\">\n",
       "      <th></th>\n",
       "      <th>ID</th>\n",
       "      <th>Category</th>\n",
       "      <th>Review Text</th>\n",
       "    </tr>\n",
       "  </thead>\n",
       "  <tbody>\n",
       "    <tr>\n",
       "      <th>0</th>\n",
       "      <td>0</td>\n",
       "      <td>2</td>\n",
       "      <td>Don't waste your time.  We had two different p...</td>\n",
       "    </tr>\n",
       "    <tr>\n",
       "      <th>1</th>\n",
       "      <td>1</td>\n",
       "      <td>2</td>\n",
       "      <td>I will start by saying we have a nice new deck...</td>\n",
       "    </tr>\n",
       "    <tr>\n",
       "      <th>2</th>\n",
       "      <td>2</td>\n",
       "      <td>2</td>\n",
       "      <td>When I wanted a deck for the back of my home I...</td>\n",
       "    </tr>\n",
       "    <tr>\n",
       "      <th>3</th>\n",
       "      <td>3</td>\n",
       "      <td>5</td>\n",
       "      <td>Our cat went out the other night and must have...</td>\n",
       "    </tr>\n",
       "    <tr>\n",
       "      <th>4</th>\n",
       "      <td>4</td>\n",
       "      <td>5</td>\n",
       "      <td>Greentree Animal clinic is the absolute best! ...</td>\n",
       "    </tr>\n",
       "  </tbody>\n",
       "</table>\n",
       "</div>"
      ],
      "text/plain": [
       "   ID  Category                                        Review Text\n",
       "0   0         2  Don't waste your time.  We had two different p...\n",
       "1   1         2  I will start by saying we have a nice new deck...\n",
       "2   2         2  When I wanted a deck for the back of my home I...\n",
       "3   3         5  Our cat went out the other night and must have...\n",
       "4   4         5  Greentree Animal clinic is the absolute best! ..."
      ]
     },
     "execution_count": 6,
     "metadata": {},
     "output_type": "execute_result"
    }
   ],
   "source": [
    "df = pd.read_csv(\"yelp_data_official_training.csv\", sep = \"|\", low_memory=False)\n",
    "df.head()"
   ]
  },
  {
   "cell_type": "code",
   "execution_count": 7,
   "metadata": {
    "collapsed": false
   },
   "outputs": [
    {
     "data": {
      "text/html": [
       "<div>\n",
       "<table border=\"1\" class=\"dataframe\">\n",
       "  <thead>\n",
       "    <tr>\n",
       "      <th></th>\n",
       "      <th>ID</th>\n",
       "      <th>Review Text</th>\n",
       "    </tr>\n",
       "    <tr>\n",
       "      <th></th>\n",
       "      <th>count</th>\n",
       "      <th>count</th>\n",
       "    </tr>\n",
       "    <tr>\n",
       "      <th>Category</th>\n",
       "      <th></th>\n",
       "      <th></th>\n",
       "    </tr>\n",
       "  </thead>\n",
       "  <tbody>\n",
       "    <tr>\n",
       "      <th>1</th>\n",
       "      <td>15092</td>\n",
       "      <td>15092</td>\n",
       "    </tr>\n",
       "    <tr>\n",
       "      <th>2</th>\n",
       "      <td>7945</td>\n",
       "      <td>7944</td>\n",
       "    </tr>\n",
       "    <tr>\n",
       "      <th>3</th>\n",
       "      <td>11371</td>\n",
       "      <td>11370</td>\n",
       "    </tr>\n",
       "    <tr>\n",
       "      <th>4</th>\n",
       "      <td>7803</td>\n",
       "      <td>7803</td>\n",
       "    </tr>\n",
       "    <tr>\n",
       "      <th>5</th>\n",
       "      <td>3721</td>\n",
       "      <td>3721</td>\n",
       "    </tr>\n",
       "    <tr>\n",
       "      <th>6</th>\n",
       "      <td>2069</td>\n",
       "      <td>2069</td>\n",
       "    </tr>\n",
       "  </tbody>\n",
       "</table>\n",
       "</div>"
      ],
      "text/plain": [
       "             ID Review Text\n",
       "          count       count\n",
       "Category                   \n",
       "1         15092       15092\n",
       "2          7945        7944\n",
       "3         11371       11370\n",
       "4          7803        7803\n",
       "5          3721        3721\n",
       "6          2069        2069"
      ]
     },
     "execution_count": 7,
     "metadata": {},
     "output_type": "execute_result"
    }
   ],
   "source": [
    "df.groupby(['Category']).agg(['count'])"
   ]
  },
  {
   "cell_type": "code",
   "execution_count": 8,
   "metadata": {
    "collapsed": true
   },
   "outputs": [],
   "source": [
    "filtered_data = df[\"Review Text\"].notnull()\n",
    "df_narrative = df[filtered_data]"
   ]
  },
  {
   "cell_type": "code",
   "execution_count": 9,
   "metadata": {
    "collapsed": false
   },
   "outputs": [
    {
     "data": {
      "image/png": "[encoded data removed]",
      "text/plain": [
       "<matplotlib.figure.Figure at 0x11d1e96d8>"
      ]
     },
     "metadata": {},
     "output_type": "display_data"
    }
   ],
   "source": [
    "sorted_category_counts = df_narrative.Category.value_counts(ascending=True)\n",
    "sorted_category_counts.plot(kind='barh', figsize=(8,6), title=\"Categories\");"
   ]
  },
  {
   "cell_type": "markdown",
   "metadata": {},
   "source": [
    "## Using Peter Norvig's Spelling Corrector"
   ]
  },
  {
   "cell_type": "code",
   "execution_count": 13,
   "metadata": {
    "collapsed": false
   },
   "outputs": [],
   "source": [
    "import re, string\n",
    "from collections import Counter\n",
    "\n",
    "def words(text): return re.findall(r'\\w+', text.lower())\n",
    "\n",
    "WORDS = Counter(words(open('big.txt').read()))\n",
    "\n",
    "def P(word, N=sum(WORDS.values())): \n",
    "    \"Probability of `word`.\"\n",
    "    return WORDS[word] / N\n",
    "\n",
    "def correction(word): \n",
    "    \"Most probable spelling correction for word.\"\n",
    "    return max(candidates(word), key=P)\n",
    "\n",
    "def candidates(word): \n",
    "    \"Generate possible spelling corrections for word.\"\n",
    "    return (known([word]) or known(edits1(word)) or known(edits2(word)) or known(edits2(word)) or [word])\n",
    "\n",
    "def known(words): \n",
    "    \"The subset of `words` that appear in the dictionary of WORDS.\"\n",
    "    return set(w for w in words if w in WORDS)\n",
    "\n",
    "def edits1(word):\n",
    "    \"All edits that are one edit away from `word`.\"\n",
    "    letters    = 'abcdefghijklmnopqrstuvwxyz'\n",
    "    splits     = [(word[:i], word[i:])    for i in range(len(word) + 1)]\n",
    "    deletes    = [L + R[1:]               for L, R in splits if R]\n",
    "    transposes = [L + R[1] + R[0] + R[2:] for L, R in splits if len(R)>1]\n",
    "    replaces   = [L + c + R[1:]           for L, R in splits if R for c in letters]\n",
    "    inserts    = [L + c + R               for L, R in splits for c in letters]\n",
    "    return set(deletes + transposes + replaces + inserts)\n",
    "\n",
    "def edits2(word): \n",
    "    \"All edits that are two edits away from `word`.\"\n",
    "    return (e2 for e1 in edits1(word) for e2 in edits1(e1))\n",
    "\n",
    "def edits3(word): \n",
    "    \"All edits that are three edits away from `word`.\"\n",
    "    return (e3 for e2 in edits2(word) for e2 in edits1(e2))"
   ]
  },
  {
   "cell_type": "code",
   "execution_count": 14,
   "metadata": {
    "collapsed": false
   },
   "outputs": [
    {
     "name": "stdout",
     "output_type": "stream",
     "text": [
      "100 loops, best of 3: 15.6 ms per loop\n",
      "The slowest run took 21.50 times longer than the fastest. This could mean that an intermediate result is being cached.\n",
      "1000000 loops, best of 3: 438 ns per loop\n"
     ]
    }
   ],
   "source": [
    "from nltk.stem import WordNetLemmatizer\n",
    "\n",
    "def check_spelling(word):\n",
    "    if word.lower() not in WORDS.keys() and word not in string.punctuation:\n",
    "        return correction(word)\n",
    "    else:\n",
    "        return word\n",
    "    \n",
    "def get_word_lemmas(review):\n",
    "    WNL = WordNetLemmatizer()\n",
    "    review_tokens = nltk.word_tokenize(review)\n",
    "    corrected_tokens = [WNL.lemmatize(word) for word in review_tokens]\n",
    "    return(\" \".join(corrected_tokens))\n",
    "\n",
    "def get_word_stems(review):\n",
    "    PS = nltk.stem.PorterStemmer()\n",
    "    review_tokens = nltk.word_tokenize(review)\n",
    "    corrected_tokens = [PS.stem(word) for word in review_tokens]\n",
    "    return(\" \".join(corrected_tokens))\n",
    "\n",
    "review = '''I will start by saying we have a nice new deck. That is where the good part ends.\n",
    "\n",
    "Why two stars if we have a nice deck now? Well, it all started in May when we had a man named Al come out and talk to us about the process. He was a true salesman, I'll tell you that. Not a straight shooter, but an excited salesman that wanted to sell... And we bought into it.\n",
    "\n",
    "He told us they were backed up with the harsh winter and a lot of jobs, but they could probably start by June 24th. Mind you, this was the end of May we met with him. He said they would have to do a survey of our land and get a permit from Dormont before they started. We felt confident in going with them, and booked it.\n",
    "\n",
    "Here's where things fell apart. Weeks went by with no word from them on the process. Finally I called and left messages. Al finally got in touch with me and the conversation was utterly confusing. He must have not understood me because he just kept talking in circles. So I hung up not knowing what was going on. Finally I called back and the admin told me that the survey could take a couple weeks to come back. I wish Al would have told us that.\n",
    "\n",
    "So our June 24th date came and went. We finally got our survey. And they were quick to bill us for it, but no word on where we were in the process. I called back a couple times with no real answers from the admin. Apparently they were now waiting for the permit from Dormont.\n",
    "\n",
    "A month later, I was frustrated and asked to speak with someone at the company. I spoke with someone who told me that Dormont usually takes a week to process the permit, but we were now going on a month. He told me he would bug the guy about it and we finally got it. \n",
    "\n",
    "I completely understand that waiting on the permit is not their fault, but why no communication about it? Just call me and tell me they're waiting for the permit, but they'll work towards asking Dormont what the hold up is. Seems simple.\n",
    "\n",
    "Finally we get the permit and work is supposed to start. Tuesday comes and they have to wait for approval from Dormont on holes they're digging. So holes are dug and equipment is put in my backyard and then nothing happens for two days. Where did everyone go? Who knows, because I wasn't informed! \n",
    "\n",
    "I was upset and contacted the company owner, Dave, by email. I told him how frustrated I was about the lack of communication. He wrote me two sentences that  said \"\"there will be acres there tomorrow morning to finish and most will be done tomorrow.\"\" Well, that didn't happen.\n",
    "\n",
    "Then two other dudes show up two days later and did work for about three hours and left. The main guy comes back the next day and says they did it wrong. So apparently the part about how they wouldn't need access to my house changes to they're drilling bolts into my house to secure he deck. \n",
    "\n",
    "Finally, the second week into construction, my tiny 10x11 foot deck is done. It was upsetting that they left the deck dirty, and all the dirt and cement they moved around wasn't cleaned up. I even asked them to fill all the holes they dug up and didn't use, and they only filled up one. When you create a construction project, isn't it just good business to clean it up and make it look nice? Didn't happen here.\n",
    "\n",
    "My main point is, contractors have a reputation for not being the most trustworthy. Why be that company? Why not be an upstanding company that consumers can trust? My main issues with them were that things were not communicated to me properly up front, nor was the ongoing process communicated to me. Then they left everything unfinished in my eyes, leaving the site dirty. I understand things happen and things get delayed, but just email or call me. It's not that hard to keep me updated, it is 2014 with a million ways to be contacted.\n",
    "\n",
    "Even though I have a nice deck (after I clean things up myself!), I would not recommend them to anyone.'''\n",
    "\n",
    "%timeit get_word_stems(review)\n",
    "%timeit check_spelling(\"Hello\")"
   ]
  },
  {
   "cell_type": "markdown",
   "metadata": {},
   "source": [
    "## Seperate Training and Dev data \n",
    "\n",
    "- Seperate training and dev data in a 70-30 ratio. Not keeping any test data as Kaggle Data will be used for that.\n",
    "- Train over entire training data set for Kaggle Submissions.\n",
    "- Read Kaggle Test data "
   ]
  },
  {
   "cell_type": "code",
   "execution_count": 15,
   "metadata": {
    "collapsed": false
   },
   "outputs": [],
   "source": [
    "random_index = np.random.permutation(df_narrative.index)\n",
    "df_narrative_shuffled = df_narrative.ix[random_index, ['Category', 'Review Text']]\n",
    "df_narrative_shuffled.reset_index(drop=True, inplace=True)\n",
    "df_narrative_shuffled['Review Text'] = df_narrative_shuffled['Review Text'].map(get_word_stems)"
   ]
  },
  {
   "cell_type": "code",
   "execution_count": 16,
   "metadata": {
    "collapsed": false
   },
   "outputs": [
    {
     "name": "stdout",
     "output_type": "stream",
     "text": [
      "Category                                                       3\n",
      "Review Text    First evalu wa easi . Appt . wa for 0800 and I...\n",
      "Name: 0, dtype: object\n"
     ]
    }
   ],
   "source": [
    "rows, columns = df_narrative_shuffled.shape\n",
    "train_size = round(rows*.70)\n",
    "dev_size   = round(rows*.30)\n",
    "kaggle_train_size = rows\n",
    "print(df_narrative_shuffled.loc[0])"
   ]
  },
  {
   "cell_type": "code",
   "execution_count": 17,
   "metadata": {
    "collapsed": true
   },
   "outputs": [],
   "source": [
    "df_train = df_narrative_shuffled.loc[:train_size]\n",
    "df_kaggle_train = df_narrative_shuffled.loc[:kaggle_train_size]\n",
    "df_dev = df_narrative_shuffled.loc[train_size:dev_size+train_size].reset_index(drop=True)\n",
    "df_test = pd.read_csv(\"yelp_data_official_test_nocategories.csv\", sep = \"|\", low_memory=False)\n",
    "df_test['Review Text'] = df_test['Review Text'].map(get_word_stems)"
   ]
  },
  {
   "cell_type": "code",
   "execution_count": 18,
   "metadata": {
    "collapsed": false
   },
   "outputs": [
    {
     "name": "stdout",
     "output_type": "stream",
     "text": [
      "TfidfVectorizer(analyzer='word', binary=False, decode_error='strict',\n",
      "        dtype=<class 'numpy.int64'>, encoding='utf-8', input='content',\n",
      "        lowercase=True, max_df=1.0, max_features=18000, min_df=5,\n",
      "        ngram_range=(1, 1), norm='l2', preprocessor=None, smooth_idf=True,\n",
      "        stop_words='english', strip_accents=None, sublinear_tf=False,\n",
      "        token_pattern='\\\\b\\\\w+\\\\b', tokenizer=None, use_idf=True,\n",
      "        vocabulary=None)\n",
      "SVC(C=1.0, cache_size=200, class_weight=None, coef0=0.0,\n",
      "  decision_function_shape=None, degree=3, gamma='auto', kernel='rbf',\n",
      "  max_iter=-1, probability=False, random_state=None, shrinking=True,\n",
      "  tol=0.001, verbose=False)\n",
      "LinearSVC(C=1.0, class_weight=None, dual=True, fit_intercept=True,\n",
      "     intercept_scaling=1, loss='squared_hinge', max_iter=1000,\n",
      "     multi_class='ovr', penalty='l2', random_state=None, tol=0.0001,\n",
      "     verbose=0)\n"
     ]
    }
   ],
   "source": [
    "print(TfidfVectorizer(ngram_range=(1, 1), token_pattern=r'\\b\\w+\\b', min_df=5, max_features=18000, stop_words = 'english'))\n",
    "print(SVC())\n",
    "print(LinearSVC())"
   ]
  },
  {
   "cell_type": "code",
   "execution_count": null,
   "metadata": {
    "collapsed": false
   },
   "outputs": [
    {
     "name": "stdout",
     "output_type": "stream",
     "text": [
      "Fitting 3 folds for each of 40 candidates, totalling 120 fits\n"
     ]
    }
   ],
   "source": [
    "training_classifier = Pipeline([('tfidfvect', TfidfVectorizer(token_pattern=r'\\b\\w+\\b', min_df=5, max_features=30000, stop_words = 'english', sublinear_tf=True) ),\n",
    "                                    ('feat',SelectKBest(chi2, 5000)),\n",
    "                                    ('classifier',LinearSVC(C = 1, loss='hinge'))\n",
    "                                   ])\n",
    "\n",
    "params = {\n",
    "    'tfidfvect__ngram_range': ((1,1),(1,2)), \n",
    "    'classifier__C': (0.01, 0.1, 1, 10, 100), \n",
    "    'classifier__loss': ('hinge', 'squared_hinge'),\n",
    "    'tfidfvect__smooth_idf': (True, False)\n",
    "    }\n",
    "\n",
    "grid_search = GridSearchCV(training_classifier, params, n_jobs=-1, verbose=1)\n",
    "grid_search.fit(df_train[\"Review Text\"],df_train.Category)\n",
    "\n",
    "\n",
    "print(\"Performing grid search...\")\n",
    "print(\"pipeline:\", [name for name, _ in pipeline.steps])\n",
    "print(\"parameters:\")\n",
    "pprint(parameters)\n",
    "t0 = time()\n",
    "grid_search.fit(data.data, data.target)\n",
    "print(\"done in %0.3fs\" % (time() - t0))\n",
    "print()\n",
    "\n",
    "print(\"Best score: %0.3f\" % grid_search.best_score_)\n",
    "print(\"Best parameters set:\")\n",
    "best_parameters = grid_search.best_estimator_.get_params()\n",
    "for param_name in sorted(parameters.keys()):\n",
    "    print(\"\\t%s: %r\" % (param_name, best_parameters[param_name]))\n",
    "\n",
    "# training_classifier = training_classifier.fit(df_train[\"Review Text\"],df_train.Category)\n",
    "    \n",
    "# trial_predictions = training_classifier.predict(df_dev[\"Review Text\"])\n",
    "# accuracy = accuracy_score(df_dev.Category, trial_predictions)\n",
    "# print(accuracy)"
   ]
  },
  {
   "cell_type": "code",
   "execution_count": null,
   "metadata": {
    "collapsed": true
   },
   "outputs": [],
   "source": []
  },
  {
   "cell_type": "code",
   "execution_count": 5,
   "metadata": {
    "collapsed": false
   },
   "outputs": [
    {
     "ename": "NameError",
     "evalue": "name 'rows' is not defined",
     "output_type": "error",
     "traceback": [
      "\u001b[0;31m---------------------------------------------------------------------------\u001b[0m",
      "\u001b[0;31mNameError\u001b[0m                                 Traceback (most recent call last)",
      "\u001b[0;32m<ipython-input-5-341988a6eb1f>\u001b[0m in \u001b[0;36m<module>\u001b[0;34m()\u001b[0m\n\u001b[0;32m----> 1\u001b[0;31m \u001b[0mkf\u001b[0m \u001b[0;34m=\u001b[0m \u001b[0mKFold\u001b[0m\u001b[0;34m(\u001b[0m\u001b[0mrows\u001b[0m\u001b[0;34m,\u001b[0m \u001b[0;36m10\u001b[0m\u001b[0;34m,\u001b[0m \u001b[0mshuffle\u001b[0m\u001b[0;34m=\u001b[0m\u001b[0;32mTrue\u001b[0m\u001b[0;34m)\u001b[0m\u001b[0;34m\u001b[0m\u001b[0m\n\u001b[0m\u001b[1;32m      2\u001b[0m \u001b[0mavg_accuracy\u001b[0m \u001b[0;34m=\u001b[0m \u001b[0;36m0\u001b[0m\u001b[0;34m\u001b[0m\u001b[0m\n\u001b[1;32m      3\u001b[0m \u001b[0;32mfor\u001b[0m \u001b[0mtrain_indices\u001b[0m\u001b[0;34m,\u001b[0m \u001b[0mtest_indices\u001b[0m \u001b[0;32min\u001b[0m \u001b[0mkf\u001b[0m\u001b[0;34m:\u001b[0m\u001b[0;34m\u001b[0m\u001b[0m\n\u001b[1;32m      4\u001b[0m     \u001b[0mdf_train\u001b[0m \u001b[0;34m=\u001b[0m \u001b[0mdf_narrative_shuffled\u001b[0m\u001b[0;34m.\u001b[0m\u001b[0mloc\u001b[0m\u001b[0;34m[\u001b[0m\u001b[0mtrain_indices\u001b[0m\u001b[0;34m]\u001b[0m\u001b[0;34m\u001b[0m\u001b[0m\n\u001b[1;32m      5\u001b[0m     \u001b[0mdf_dev\u001b[0m \u001b[0;34m=\u001b[0m \u001b[0mdf_narrative_shuffled\u001b[0m\u001b[0;34m.\u001b[0m\u001b[0mloc\u001b[0m\u001b[0;34m[\u001b[0m\u001b[0mtest_indices\u001b[0m\u001b[0;34m]\u001b[0m\u001b[0;34m\u001b[0m\u001b[0m\n",
      "\u001b[0;31mNameError\u001b[0m: name 'rows' is not defined"
     ]
    }
   ],
   "source": [
    "kf = KFold(rows, 10, shuffle=True)\n",
    "avg_accuracy = 0\n",
    "for train_indices, test_indices in kf:\n",
    "    df_train = df_narrative_shuffled.loc[train_indices] \n",
    "    df_dev = df_narrative_shuffled.loc[test_indices] \n",
    "\n",
    "    training_classifier = Pipeline([('tfidfvect', TfidfVectorizer(ngram_range=(1, 1), token_pattern=r'\\b\\w+\\b', min_df=5, max_features=30000, stop_words = 'english', sublinear_tf=True) ),\n",
    "                                    ('feat',SelectKBest(chi2, 5000)),\n",
    "                                    ('classifier',LinearSVC(loss='hinge'))\n",
    "                                   ])\n",
    "    training_classifier = training_classifier.fit(df_train[\"Review Text\"],df_train.Category)\n",
    "    \n",
    "    trial_predictions = training_classifier.predict(df_dev[\"Review Text\"])\n",
    "    accuracy = accuracy_score(df_dev.Category, trial_predictions)\n",
    "    print(accuracy)\n",
    "    avg_accuracy += accuracy_score(df_dev.Category, trial_predictions)\n",
    "    \n",
    "print(avg_accuracy/10)\n",
    "\n",
    "\n"
   ]
  },
  {
   "cell_type": "markdown",
   "metadata": {},
   "source": [
    "Log for methods:\n",
    "\n",
    "PreProcessing | Feature Selection | Num Features | Model Selction | CV1 | CV2 | CV3 \n",
    "--- | --- | --- | --- | --- | --- \n",
    "Lemmatize | sublinear=True | 18000| LSVC | 0.911748159339 | 0.911602347711 |\n",
    "None | sublinear=True | 18000| LSVC | 0.91158152306 | 0.910560594221 |\n",
    "Lemmatize | sublinear=False| 18000| LSVC | 0.910873207092 | 0.911102256547 |\n",
    "Lemmatize | sublinear=True | 18000| LSVC loss='hinge' | 0.913185650656| 0.914206575155 |\n",
    "None | sublinear=True | 18000| LSVC loss='hinge' | 0.914060759186| 0.913352256547 | 0.9136649519\n",
    "Stemming | sublinear=True | 5000 Chi2 from 30K | LSVC loss='hinge' | 0.912727247864| 0.913435646315 |\n",
    "\n"
   ]
  },
  {
   "cell_type": "code",
   "execution_count": 19,
   "metadata": {
    "collapsed": true
   },
   "outputs": [],
   "source": [
    "df_dev.to_csv(\"dev_data.csv\")\n",
    "\n",
    "prediction_df = pd.DataFrame(data=trial_predictions, columns=[\"Category\"])\n",
    "prediction_df[\"Id\"] = prediction_df.index\n",
    "cols = [\"Id\",\"Category\"]\n",
    "\n",
    "prediction_df[cols].to_csv(\"trial_results.csv\", index=False)"
   ]
  },
  {
   "cell_type": "code",
   "execution_count": 20,
   "metadata": {
    "collapsed": false
   },
   "outputs": [],
   "source": [
    "class_labels = np.sort(df_dev.Category.unique())\n",
    "class_labels = [str(x) for x in class_labels]"
   ]
  },
  {
   "cell_type": "code",
   "execution_count": 51,
   "metadata": {
    "collapsed": false
   },
   "outputs": [
    {
     "name": "stdout",
     "output_type": "stream",
     "text": [
      "             precision    recall  f1-score   support\n",
      "\n",
      "          1       0.94      0.94      0.94      4611\n",
      "          2       0.87      0.89      0.88      2377\n",
      "          3       0.92      0.94      0.93      3378\n",
      "          4       0.85      0.85      0.85      2303\n",
      "          5       0.93      0.90      0.92      1107\n",
      "          6       0.91      0.79      0.85       624\n",
      "\n",
      "avg / total       0.91      0.91      0.91     14400\n",
      "\n",
      "\n",
      "\n",
      "***Confusion Matrix***\n",
      "\n",
      "\n",
      "[[4319   61  121   99    3    8]\n",
      " [  56 2106   36  167    4    8]\n",
      " [  96   39 3181   53    7    2]\n",
      " [  77  199   61 1959    2    5]\n",
      " [   5    6   64    7 1001   24]\n",
      " [  28   13    8   23   58  494]]\n"
     ]
    }
   ],
   "source": [
    "print(classification_report(df_dev.Category, trial_predictions, target_names=class_labels))\n",
    "print(\"\\n\\n***Confusion Matrix***\\n\\n\")\n",
    "print(confusion_matrix(df_dev.Category, trial_predictions))"
   ]
  },
  {
   "cell_type": "code",
   "execution_count": 52,
   "metadata": {
    "collapsed": true
   },
   "outputs": [],
   "source": [
    "def plot_confusion_matrix(cm, title, target_names, cmap=plt.cm.coolwarm):\n",
    "    plt.figure(figsize=(8,8))\n",
    "    plt.imshow(cm, interpolation='nearest', cmap=cmap)\n",
    "    plt.title(title)\n",
    "    plt.colorbar()\n",
    "    tick_marks = np.arange(len(target_names))\n",
    "    plt.xticks(tick_marks, target_names, rotation=45)\n",
    "    plt.yticks(tick_marks, target_names)\n",
    "    plt.tight_layout()\n",
    "    plt.ylabel('True label')\n",
    "    plt.xlabel('Predicted label')"
   ]
  },
  {
   "cell_type": "code",
   "execution_count": 34,
   "metadata": {
    "collapsed": false
   },
   "outputs": [
    {
     "data": {
      "image/png": "[encoded data removed]",
      "text/plain": [
       "<matplotlib.figure.Figure at 0x125ddfc88>"
      ]
     },
     "metadata": {},
     "output_type": "display_data"
    }
   ],
   "source": [
    "trial_cm = confusion_matrix(df_dev.Category, trial_predictions)\n",
    "plot_confusion_matrix(trial_cm, \"Linear SVC Confusion Matrix\", class_labels)"
   ]
  },
  {
   "cell_type": "code",
   "execution_count": null,
   "metadata": {
    "collapsed": false
   },
   "outputs": [],
   "source": [
    "kaggle_classifier = Pipeline([('tfidfvect', TfidfVectorizer(ngram_range=(1, 1), token_pattern=r'\\b\\w+\\b', min_df=5, max_features=30000, stop_words = 'english', sublinear_tf=True) ),\n",
    "                                ('feat',SelectKBest(chi2, 8000)),\n",
    "                                ('classifier',SVC(gamma=0.8, probability=True))\n",
    "                                ])\n",
    "kaggle_classifier = kaggle_classifier.fit(df_kaggle_train[\"Review Text\"],df_kaggle_train.Category)\n",
    "    \n",
    "kaggle_predictions = kaggle_classifier.predict(df_test[\"Review Text\"])"
   ]
  },
  {
   "cell_type": "code",
   "execution_count": 43,
   "metadata": {
    "collapsed": false
   },
   "outputs": [],
   "source": [
    "# accuracy_score(df_dev.Category, nb_kaggle_predictions)\n",
    "\n",
    "prediction_df = pd.DataFrame(data=kaggle_predictions, columns=[\"Category\"])\n",
    "prediction_df[\"Id\"] = prediction_df.index\n",
    "cols = [\"Id\",\"Category\"]\n",
    "\n",
    "prediction_df[cols].to_csv(\"kaggle_svc_rbf_8000_hinge_submission.csv\", index=False)"
   ]
  },
  {
   "cell_type": "code",
   "execution_count": null,
   "metadata": {
    "collapsed": true
   },
   "outputs": [],
   "source": []
  }
 ],
 "metadata": {
  "anaconda-cloud": {},
  "kernelspec": {
   "display_name": "Python [Root]",
   "language": "python",
   "name": "Python [Root]"
  },
  "language_info": {
   "codemirror_mode": {
    "name": "ipython",
    "version": 3
   },
   "file_extension": ".py",
   "mimetype": "text/x-python",
   "name": "python",
   "nbconvert_exporter": "python",
   "pygments_lexer": "ipython3",
   "version": "3.5.2"
  }
 },
 "nbformat": 4,
 "nbformat_minor": 0
}
